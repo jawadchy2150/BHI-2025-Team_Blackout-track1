{
 "cells": [
  {
   "cell_type": "code",
   "execution_count": 24,
   "id": "94d2ea59",
   "metadata": {},
   "outputs": [
    {
     "name": "stdout",
     "output_type": "stream",
     "text": [
      "Requirement already satisfied: pandas in /Library/Frameworks/Python.framework/Versions/3.13/lib/python3.13/site-packages (2.3.0)\n",
      "Requirement already satisfied: matplotlib in /Library/Frameworks/Python.framework/Versions/3.13/lib/python3.13/site-packages (3.10.3)\n",
      "Requirement already satisfied: seaborn in /Library/Frameworks/Python.framework/Versions/3.13/lib/python3.13/site-packages (0.13.2)\n",
      "Requirement already satisfied: numpy>=1.26.0 in /Library/Frameworks/Python.framework/Versions/3.13/lib/python3.13/site-packages (from pandas) (2.3.1)\n",
      "Requirement already satisfied: python-dateutil>=2.8.2 in /Library/Frameworks/Python.framework/Versions/3.13/lib/python3.13/site-packages (from pandas) (2.9.0.post0)\n",
      "Requirement already satisfied: pytz>=2020.1 in /Library/Frameworks/Python.framework/Versions/3.13/lib/python3.13/site-packages (from pandas) (2025.2)\n",
      "Requirement already satisfied: tzdata>=2022.7 in /Library/Frameworks/Python.framework/Versions/3.13/lib/python3.13/site-packages (from pandas) (2025.2)\n",
      "Requirement already satisfied: contourpy>=1.0.1 in /Library/Frameworks/Python.framework/Versions/3.13/lib/python3.13/site-packages (from matplotlib) (1.3.2)\n",
      "Requirement already satisfied: cycler>=0.10 in /Library/Frameworks/Python.framework/Versions/3.13/lib/python3.13/site-packages (from matplotlib) (0.12.1)\n",
      "Requirement already satisfied: fonttools>=4.22.0 in /Library/Frameworks/Python.framework/Versions/3.13/lib/python3.13/site-packages (from matplotlib) (4.58.4)\n",
      "Requirement already satisfied: kiwisolver>=1.3.1 in /Library/Frameworks/Python.framework/Versions/3.13/lib/python3.13/site-packages (from matplotlib) (1.4.8)\n",
      "Requirement already satisfied: packaging>=20.0 in /Library/Frameworks/Python.framework/Versions/3.13/lib/python3.13/site-packages (from matplotlib) (25.0)\n",
      "Requirement already satisfied: pillow>=8 in /Library/Frameworks/Python.framework/Versions/3.13/lib/python3.13/site-packages (from matplotlib) (11.3.0)\n",
      "Requirement already satisfied: pyparsing>=2.3.1 in /Library/Frameworks/Python.framework/Versions/3.13/lib/python3.13/site-packages (from matplotlib) (3.2.3)\n",
      "Requirement already satisfied: six>=1.5 in /Library/Frameworks/Python.framework/Versions/3.13/lib/python3.13/site-packages (from python-dateutil>=2.8.2->pandas) (1.17.0)\n",
      "\n",
      "\u001b[1m[\u001b[0m\u001b[34;49mnotice\u001b[0m\u001b[1;39;49m]\u001b[0m\u001b[39;49m A new release of pip is available: \u001b[0m\u001b[31;49m25.1.1\u001b[0m\u001b[39;49m -> \u001b[0m\u001b[32;49m25.2\u001b[0m\n",
      "\u001b[1m[\u001b[0m\u001b[34;49mnotice\u001b[0m\u001b[1;39;49m]\u001b[0m\u001b[39;49m To update, run: \u001b[0m\u001b[32;49mpip install --upgrade pip\u001b[0m\n",
      "Note: you may need to restart the kernel to use updated packages.\n"
     ]
    }
   ],
   "source": [
    "pip install pandas matplotlib seaborn"
   ]
  },
  {
   "cell_type": "code",
   "execution_count": 25,
   "id": "0fa72a1c",
   "metadata": {},
   "outputs": [],
   "source": [
    "import pandas as pd\n",
    "import matplotlib.pyplot as plt\n",
    "import seaborn as sns"
   ]
  },
  {
   "cell_type": "markdown",
   "id": "238a7306",
   "metadata": {},
   "source": [
    "## Data Loading"
   ]
  },
  {
   "cell_type": "code",
   "execution_count": 40,
   "id": "3550f657",
   "metadata": {},
   "outputs": [
    {
     "name": "stdout",
     "output_type": "stream",
     "text": [
      "Dataset Loaded Successfully\n"
     ]
    }
   ],
   "source": [
    "file_path = 'Dataset/mental_health_dataset.csv'\n",
    "\n",
    "try:\n",
    "    df = pd.read_csv(file_path)\n",
    "    print(\"Dataset Loaded Successfully\")\n",
    "except FileNotFoundError:\n",
    "    print(f\"Error: File was not found\")\n",
    "    exit()"
   ]
  },
  {
   "cell_type": "code",
   "execution_count": 41,
   "id": "024a6e3b",
   "metadata": {},
   "outputs": [
    {
     "name": "stdout",
     "output_type": "stream",
     "text": [
      "<class 'pandas.core.frame.DataFrame'>\n",
      "RangeIndex: 210 entries, 0 to 209\n",
      "Data columns (total 10 columns):\n",
      " #   Column                           Non-Null Count  Dtype  \n",
      "---  ------                           --------------  -----  \n",
      " 0   age                              209 non-null    float64\n",
      " 1   sex                              210 non-null    object \n",
      " 2   hospital_center_id               210 non-null    int64  \n",
      " 3   condition                        210 non-null    object \n",
      " 4   condition_type                   209 non-null    object \n",
      " 5   bdi_ii_baseline                  209 non-null    float64\n",
      " 6   bdi_ii_after_intervention_12w    167 non-null    float64\n",
      " 7   bdi_ii_follow_up_24w             166 non-null    float64\n",
      " 8   mindfulness_therapies_started    210 non-null    int64  \n",
      " 9   mindfulness_therapies_completed  210 non-null    int64  \n",
      "dtypes: float64(4), int64(3), object(3)\n",
      "memory usage: 16.5+ KB\n"
     ]
    }
   ],
   "source": [
    "df.info()"
   ]
  },
  {
   "cell_type": "code",
   "execution_count": 42,
   "id": "13070e2f",
   "metadata": {},
   "outputs": [
    {
     "data": {
      "text/html": [
       "<div>\n",
       "<style scoped>\n",
       "    .dataframe tbody tr th:only-of-type {\n",
       "        vertical-align: middle;\n",
       "    }\n",
       "\n",
       "    .dataframe tbody tr th {\n",
       "        vertical-align: top;\n",
       "    }\n",
       "\n",
       "    .dataframe thead th {\n",
       "        text-align: right;\n",
       "    }\n",
       "</style>\n",
       "<table border=\"1\" class=\"dataframe\">\n",
       "  <thead>\n",
       "    <tr style=\"text-align: right;\">\n",
       "      <th></th>\n",
       "      <th>age</th>\n",
       "      <th>hospital_center_id</th>\n",
       "      <th>bdi_ii_baseline</th>\n",
       "      <th>bdi_ii_after_intervention_12w</th>\n",
       "      <th>bdi_ii_follow_up_24w</th>\n",
       "      <th>mindfulness_therapies_started</th>\n",
       "      <th>mindfulness_therapies_completed</th>\n",
       "    </tr>\n",
       "  </thead>\n",
       "  <tbody>\n",
       "    <tr>\n",
       "      <th>count</th>\n",
       "      <td>209.000000</td>\n",
       "      <td>210.000000</td>\n",
       "      <td>209.000000</td>\n",
       "      <td>167.000000</td>\n",
       "      <td>166.000000</td>\n",
       "      <td>210.000000</td>\n",
       "      <td>210.000000</td>\n",
       "    </tr>\n",
       "    <tr>\n",
       "      <th>mean</th>\n",
       "      <td>65.220096</td>\n",
       "      <td>1.576190</td>\n",
       "      <td>11.167464</td>\n",
       "      <td>7.479042</td>\n",
       "      <td>6.716867</td>\n",
       "      <td>25.109524</td>\n",
       "      <td>21.604762</td>\n",
       "    </tr>\n",
       "    <tr>\n",
       "      <th>std</th>\n",
       "      <td>11.179453</td>\n",
       "      <td>0.867491</td>\n",
       "      <td>8.459502</td>\n",
       "      <td>7.271697</td>\n",
       "      <td>7.335961</td>\n",
       "      <td>32.703575</td>\n",
       "      <td>30.242259</td>\n",
       "    </tr>\n",
       "    <tr>\n",
       "      <th>min</th>\n",
       "      <td>25.000000</td>\n",
       "      <td>1.000000</td>\n",
       "      <td>0.000000</td>\n",
       "      <td>0.000000</td>\n",
       "      <td>-1.000000</td>\n",
       "      <td>0.000000</td>\n",
       "      <td>0.000000</td>\n",
       "    </tr>\n",
       "    <tr>\n",
       "      <th>25%</th>\n",
       "      <td>58.000000</td>\n",
       "      <td>1.000000</td>\n",
       "      <td>5.000000</td>\n",
       "      <td>2.000000</td>\n",
       "      <td>2.000000</td>\n",
       "      <td>2.000000</td>\n",
       "      <td>0.250000</td>\n",
       "    </tr>\n",
       "    <tr>\n",
       "      <th>50%</th>\n",
       "      <td>67.000000</td>\n",
       "      <td>1.000000</td>\n",
       "      <td>10.000000</td>\n",
       "      <td>6.000000</td>\n",
       "      <td>5.000000</td>\n",
       "      <td>9.500000</td>\n",
       "      <td>7.000000</td>\n",
       "    </tr>\n",
       "    <tr>\n",
       "      <th>75%</th>\n",
       "      <td>73.000000</td>\n",
       "      <td>2.750000</td>\n",
       "      <td>15.000000</td>\n",
       "      <td>11.000000</td>\n",
       "      <td>9.000000</td>\n",
       "      <td>35.500000</td>\n",
       "      <td>32.500000</td>\n",
       "    </tr>\n",
       "    <tr>\n",
       "      <th>max</th>\n",
       "      <td>86.000000</td>\n",
       "      <td>3.000000</td>\n",
       "      <td>43.000000</td>\n",
       "      <td>40.000000</td>\n",
       "      <td>41.000000</td>\n",
       "      <td>180.000000</td>\n",
       "      <td>178.000000</td>\n",
       "    </tr>\n",
       "  </tbody>\n",
       "</table>\n",
       "</div>"
      ],
      "text/plain": [
       "              age  hospital_center_id  bdi_ii_baseline  \\\n",
       "count  209.000000          210.000000       209.000000   \n",
       "mean    65.220096            1.576190        11.167464   \n",
       "std     11.179453            0.867491         8.459502   \n",
       "min     25.000000            1.000000         0.000000   \n",
       "25%     58.000000            1.000000         5.000000   \n",
       "50%     67.000000            1.000000        10.000000   \n",
       "75%     73.000000            2.750000        15.000000   \n",
       "max     86.000000            3.000000        43.000000   \n",
       "\n",
       "       bdi_ii_after_intervention_12w  bdi_ii_follow_up_24w  \\\n",
       "count                     167.000000            166.000000   \n",
       "mean                        7.479042              6.716867   \n",
       "std                         7.271697              7.335961   \n",
       "min                         0.000000             -1.000000   \n",
       "25%                         2.000000              2.000000   \n",
       "50%                         6.000000              5.000000   \n",
       "75%                        11.000000              9.000000   \n",
       "max                        40.000000             41.000000   \n",
       "\n",
       "       mindfulness_therapies_started  mindfulness_therapies_completed  \n",
       "count                     210.000000                       210.000000  \n",
       "mean                       25.109524                        21.604762  \n",
       "std                        32.703575                        30.242259  \n",
       "min                         0.000000                         0.000000  \n",
       "25%                         2.000000                         0.250000  \n",
       "50%                         9.500000                         7.000000  \n",
       "75%                        35.500000                        32.500000  \n",
       "max                       180.000000                       178.000000  "
      ]
     },
     "execution_count": 42,
     "metadata": {},
     "output_type": "execute_result"
    }
   ],
   "source": [
    "df.describe()"
   ]
  },
  {
   "cell_type": "markdown",
   "id": "941b12ed",
   "metadata": {},
   "source": [
    "## Dealing with Missing Values"
   ]
  },
  {
   "cell_type": "code",
   "execution_count": 43,
   "id": "430ff057",
   "metadata": {},
   "outputs": [
    {
     "data": {
      "text/plain": [
       "age                                 1\n",
       "sex                                 0\n",
       "hospital_center_id                  0\n",
       "condition                           0\n",
       "condition_type                      1\n",
       "bdi_ii_baseline                     1\n",
       "bdi_ii_after_intervention_12w      43\n",
       "bdi_ii_follow_up_24w               44\n",
       "mindfulness_therapies_started       0\n",
       "mindfulness_therapies_completed     0\n",
       "dtype: int64"
      ]
     },
     "execution_count": 43,
     "metadata": {},
     "output_type": "execute_result"
    }
   ],
   "source": [
    "df.isnull().sum()"
   ]
  },
  {
   "cell_type": "code",
   "execution_count": 30,
   "id": "a6163f7c",
   "metadata": {},
   "outputs": [
    {
     "data": {
      "image/png": "[encoded data removed]",
      "text/plain": [
       "<Figure size 1200x600 with 1 Axes>"
      ]
     },
     "metadata": {},
     "output_type": "display_data"
    }
   ],
   "source": [
    "plt.figure(figsize=(12,6))\n",
    "sns.heatmap(df.isnull(), cbar=False, cmap='viridis')\n",
    "plt.title(\"Heatmap of missing values\")\n",
    "plt.show()"
   ]
  },
  {
   "cell_type": "code",
   "execution_count": 44,
   "id": "1776d5e1",
   "metadata": {},
   "outputs": [],
   "source": [
    "df_cleaned = df.copy()"
   ]
  },
  {
   "cell_type": "code",
   "execution_count": 45,
   "id": "89d03c2b",
   "metadata": {},
   "outputs": [
    {
     "data": {
      "text/html": [
       "<div>\n",
       "<style scoped>\n",
       "    .dataframe tbody tr th:only-of-type {\n",
       "        vertical-align: middle;\n",
       "    }\n",
       "\n",
       "    .dataframe tbody tr th {\n",
       "        vertical-align: top;\n",
       "    }\n",
       "\n",
       "    .dataframe thead th {\n",
       "        text-align: right;\n",
       "    }\n",
       "</style>\n",
       "<table border=\"1\" class=\"dataframe\">\n",
       "  <thead>\n",
       "    <tr style=\"text-align: right;\">\n",
       "      <th></th>\n",
       "      <th>age</th>\n",
       "      <th>sex</th>\n",
       "      <th>hospital_center_id</th>\n",
       "      <th>condition</th>\n",
       "      <th>condition_type</th>\n",
       "      <th>bdi_ii_baseline</th>\n",
       "      <th>bdi_ii_after_intervention_12w</th>\n",
       "      <th>bdi_ii_follow_up_24w</th>\n",
       "      <th>mindfulness_therapies_started</th>\n",
       "      <th>mindfulness_therapies_completed</th>\n",
       "    </tr>\n",
       "  </thead>\n",
       "  <tbody>\n",
       "    <tr>\n",
       "      <th>0</th>\n",
       "      <td>78.0</td>\n",
       "      <td>female</td>\n",
       "      <td>1</td>\n",
       "      <td>Cancer</td>\n",
       "      <td>Breast</td>\n",
       "      <td>10.0</td>\n",
       "      <td>3.0</td>\n",
       "      <td>7.0</td>\n",
       "      <td>14</td>\n",
       "      <td>13</td>\n",
       "    </tr>\n",
       "    <tr>\n",
       "      <th>1</th>\n",
       "      <td>70.0</td>\n",
       "      <td>female</td>\n",
       "      <td>1</td>\n",
       "      <td>Cancer</td>\n",
       "      <td>Breast</td>\n",
       "      <td>4.0</td>\n",
       "      <td>4.0</td>\n",
       "      <td>8.0</td>\n",
       "      <td>14</td>\n",
       "      <td>12</td>\n",
       "    </tr>\n",
       "    <tr>\n",
       "      <th>2</th>\n",
       "      <td>75.0</td>\n",
       "      <td>female</td>\n",
       "      <td>1</td>\n",
       "      <td>Cancer</td>\n",
       "      <td>Breast</td>\n",
       "      <td>18.0</td>\n",
       "      <td>10.0</td>\n",
       "      <td>13.0</td>\n",
       "      <td>4</td>\n",
       "      <td>4</td>\n",
       "    </tr>\n",
       "    <tr>\n",
       "      <th>3</th>\n",
       "      <td>73.0</td>\n",
       "      <td>female</td>\n",
       "      <td>1</td>\n",
       "      <td>Cancer</td>\n",
       "      <td>Breast</td>\n",
       "      <td>11.0</td>\n",
       "      <td>NaN</td>\n",
       "      <td>NaN</td>\n",
       "      <td>0</td>\n",
       "      <td>0</td>\n",
       "    </tr>\n",
       "    <tr>\n",
       "      <th>4</th>\n",
       "      <td>62.0</td>\n",
       "      <td>female</td>\n",
       "      <td>1</td>\n",
       "      <td>Cancer</td>\n",
       "      <td>Breast</td>\n",
       "      <td>5.0</td>\n",
       "      <td>11.0</td>\n",
       "      <td>20.0</td>\n",
       "      <td>12</td>\n",
       "      <td>7</td>\n",
       "    </tr>\n",
       "  </tbody>\n",
       "</table>\n",
       "</div>"
      ],
      "text/plain": [
       "    age     sex  hospital_center_id condition condition_type  bdi_ii_baseline  \\\n",
       "0  78.0  female                   1    Cancer         Breast             10.0   \n",
       "1  70.0  female                   1    Cancer         Breast              4.0   \n",
       "2  75.0  female                   1    Cancer         Breast             18.0   \n",
       "3  73.0  female                   1    Cancer         Breast             11.0   \n",
       "4  62.0  female                   1    Cancer         Breast              5.0   \n",
       "\n",
       "   bdi_ii_after_intervention_12w  bdi_ii_follow_up_24w  \\\n",
       "0                            3.0                   7.0   \n",
       "1                            4.0                   8.0   \n",
       "2                           10.0                  13.0   \n",
       "3                            NaN                   NaN   \n",
       "4                           11.0                  20.0   \n",
       "\n",
       "   mindfulness_therapies_started  mindfulness_therapies_completed  \n",
       "0                             14                               13  \n",
       "1                             14                               12  \n",
       "2                              4                                4  \n",
       "3                              0                                0  \n",
       "4                             12                                7  "
      ]
     },
     "execution_count": 45,
     "metadata": {},
     "output_type": "execute_result"
    }
   ],
   "source": [
    "df_cleaned.head()"
   ]
  },
  {
   "cell_type": "code",
   "execution_count": 46,
   "id": "ffc49202",
   "metadata": {},
   "outputs": [
    {
     "name": "stdout",
     "output_type": "stream",
     "text": [
      "Filled missing age values with median: 67.0\n"
     ]
    },
    {
     "name": "stderr",
     "output_type": "stream",
     "text": [
      "/var/folders/tq/ccq973m935z0vfy3hz1hmk680000gn/T/ipykernel_2579/4029891587.py:5: FutureWarning: A value is trying to be set on a copy of a DataFrame or Series through chained assignment using an inplace method.\n",
      "The behavior will change in pandas 3.0. This inplace method will never work because the intermediate object on which we are setting values always behaves as a copy.\n",
      "\n",
      "For example, when doing 'df[col].method(value, inplace=True)', try using 'df.method({col: value}, inplace=True)' or df[col] = df[col].method(value) instead, to perform the operation inplace on the original object.\n",
      "\n",
      "\n",
      "  df_cleaned['age'].fillna(median_age, inplace=True)\n"
     ]
    }
   ],
   "source": [
    "## Dealing with age null value\n",
    "\n",
    "if df_cleaned['age'].isnull().any():\n",
    "    median_age = df_cleaned['age'].median()\n",
    "    df_cleaned['age'].fillna(median_age, inplace=True)\n",
    "    print(f\"Filled missing age values with median: {median_age}\")"
   ]
  },
  {
   "cell_type": "code",
   "execution_count": 47,
   "id": "58f8d3e6",
   "metadata": {},
   "outputs": [
    {
     "name": "stdout",
     "output_type": "stream",
     "text": [
      "filled missing condition_type values with mode: Breast\n"
     ]
    },
    {
     "name": "stderr",
     "output_type": "stream",
     "text": [
      "/var/folders/tq/ccq973m935z0vfy3hz1hmk680000gn/T/ipykernel_2579/3621732522.py:5: FutureWarning: A value is trying to be set on a copy of a DataFrame or Series through chained assignment using an inplace method.\n",
      "The behavior will change in pandas 3.0. This inplace method will never work because the intermediate object on which we are setting values always behaves as a copy.\n",
      "\n",
      "For example, when doing 'df[col].method(value, inplace=True)', try using 'df.method({col: value}, inplace=True)' or df[col] = df[col].method(value) instead, to perform the operation inplace on the original object.\n",
      "\n",
      "\n",
      "  df_cleaned['condition_type'].fillna(mode_condition_type, inplace=True)\n"
     ]
    }
   ],
   "source": [
    "## Dealing with condition type missing values\n",
    "\n",
    "if df_cleaned['condition_type'].isnull().any():\n",
    "    mode_condition_type = df_cleaned['condition_type'].mode()[0]\n",
    "    df_cleaned['condition_type'].fillna(mode_condition_type, inplace=True)\n",
    "    print(f\"filled missing condition_type values with mode: {mode_condition_type}\")"
   ]
  },
  {
   "cell_type": "code",
   "execution_count": 48,
   "id": "4cefd07c",
   "metadata": {},
   "outputs": [
    {
     "name": "stdout",
     "output_type": "stream",
     "text": [
      "Filled missing values with the median values: 10.0\n"
     ]
    },
    {
     "name": "stderr",
     "output_type": "stream",
     "text": [
      "/var/folders/tq/ccq973m935z0vfy3hz1hmk680000gn/T/ipykernel_2579/2846433286.py:5: FutureWarning: A value is trying to be set on a copy of a DataFrame or Series through chained assignment using an inplace method.\n",
      "The behavior will change in pandas 3.0. This inplace method will never work because the intermediate object on which we are setting values always behaves as a copy.\n",
      "\n",
      "For example, when doing 'df[col].method(value, inplace=True)', try using 'df.method({col: value}, inplace=True)' or df[col] = df[col].method(value) instead, to perform the operation inplace on the original object.\n",
      "\n",
      "\n",
      "  df_cleaned['bdi_ii_baseline'].fillna(median_baseline, inplace=True)\n"
     ]
    }
   ],
   "source": [
    "## Dealing with bdi_ii_baseline missing values\n",
    "\n",
    "if df_cleaned['bdi_ii_baseline'].isnull().any():\n",
    "    median_baseline = df_cleaned['bdi_ii_baseline'].median()\n",
    "    df_cleaned['bdi_ii_baseline'].fillna(median_baseline, inplace=True)\n",
    "    print(f\"Filled missing values with the median values: {median_baseline}\")"
   ]
  },
  {
   "cell_type": "code",
   "execution_count": null,
   "id": "a4124702",
   "metadata": {},
   "outputs": [],
   "source": []
  }
 ],
 "metadata": {
  "kernelspec": {
   "display_name": "Python 3",
   "language": "python",
   "name": "python3"
  },
  "language_info": {
   "codemirror_mode": {
    "name": "ipython",
    "version": 3
   },
   "file_extension": ".py",
   "mimetype": "text/x-python",
   "name": "python",
   "nbconvert_exporter": "python",
   "pygments_lexer": "ipython3",
   "version": "3.13.5"
  }
 },
 "nbformat": 4,
 "nbformat_minor": 5
}
